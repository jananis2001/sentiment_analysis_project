{
 "cells": [
  {
   "cell_type": "code",
   "execution_count": 3,
   "id": "11b57506-9095-4349-ae19-5207ac240af3",
   "metadata": {},
   "outputs": [
    {
     "ename": "ModuleNotFoundError",
     "evalue": "No module named 'numpy'",
     "output_type": "error",
     "traceback": [
      "\u001b[1;31m---------------------------------------------------------------------------\u001b[0m",
      "\u001b[1;31mModuleNotFoundError\u001b[0m                       Traceback (most recent call last)",
      "Cell \u001b[1;32mIn[3], line 1\u001b[0m\n\u001b[1;32m----> 1\u001b[0m \u001b[38;5;28;01mimport\u001b[39;00m \u001b[38;5;21;01mnumpy\u001b[39;00m \u001b[38;5;28;01mas\u001b[39;00m \u001b[38;5;21;01mnp\u001b[39;00m\n\u001b[0;32m      2\u001b[0m \u001b[38;5;28;01mimport\u001b[39;00m \u001b[38;5;21;01mpandas\u001b[39;00m \u001b[38;5;28;01mas\u001b[39;00m \u001b[38;5;21;01mpd\u001b[39;00m\n\u001b[0;32m      3\u001b[0m \u001b[38;5;28;01mimport\u001b[39;00m \u001b[38;5;21;01mmatplotlib\u001b[39;00m\u001b[38;5;21;01m.\u001b[39;00m\u001b[38;5;21;01mpyplot\u001b[39;00m \u001b[38;5;28;01mas\u001b[39;00m \u001b[38;5;21;01mplt\u001b[39;00m\n",
      "\u001b[1;31mModuleNotFoundError\u001b[0m: No module named 'numpy'"
     ]
    }
   ],
   "source": [
    "import numpy as np\n",
    "import pandas as pd\n",
    "import matplotlib.pyplot as plt"
   ]
  },
  {
   "cell_type": "code",
   "execution_count": null,
   "id": "7e0a447b-8a71-4950-be73-e04ee53c609f",
   "metadata": {},
   "outputs": [],
   "source": [
    "pip install numpy\n"
   ]
  },
  {
   "cell_type": "code",
   "execution_count": 6,
   "id": "f85ca8c9-bf88-4ca4-9da4-f74bdf683177",
   "metadata": {},
   "outputs": [],
   "source": [
    "import numpy as np\n",
    "import pandas as pd\n",
    "import matplotlib.pyplot as plt"
   ]
  },
  {
   "cell_type": "code",
   "execution_count": 7,
   "id": "54e68fa0-c360-4909-978d-ca35fda65f93",
   "metadata": {},
   "outputs": [],
   "source": [
    "data = pd.read_csv('../artifacts/sentiment_analysis.csv')"
   ]
  },
  {
   "cell_type": "code",
   "execution_count": 8,
   "id": "ed34cbf5-66a5-4fe0-bb36-02ee449421ba",
   "metadata": {},
   "outputs": [
    {
     "data": {
      "text/html": [
       "<div>\n",
       "<style scoped>\n",
       "    .dataframe tbody tr th:only-of-type {\n",
       "        vertical-align: middle;\n",
       "    }\n",
       "\n",
       "    .dataframe tbody tr th {\n",
       "        vertical-align: top;\n",
       "    }\n",
       "\n",
       "    .dataframe thead th {\n",
       "        text-align: right;\n",
       "    }\n",
       "</style>\n",
       "<table border=\"1\" class=\"dataframe\">\n",
       "  <thead>\n",
       "    <tr style=\"text-align: right;\">\n",
       "      <th></th>\n",
       "      <th>id</th>\n",
       "      <th>label</th>\n",
       "      <th>tweet</th>\n",
       "    </tr>\n",
       "  </thead>\n",
       "  <tbody>\n",
       "    <tr>\n",
       "      <th>0</th>\n",
       "      <td>1</td>\n",
       "      <td>0</td>\n",
       "      <td>#fingerprint #Pregnancy Test https://goo.gl/h1...</td>\n",
       "    </tr>\n",
       "    <tr>\n",
       "      <th>1</th>\n",
       "      <td>2</td>\n",
       "      <td>0</td>\n",
       "      <td>Finally a transparant silicon case ^^ Thanks t...</td>\n",
       "    </tr>\n",
       "    <tr>\n",
       "      <th>2</th>\n",
       "      <td>3</td>\n",
       "      <td>0</td>\n",
       "      <td>We love this! Would you go? #talk #makememorie...</td>\n",
       "    </tr>\n",
       "    <tr>\n",
       "      <th>3</th>\n",
       "      <td>4</td>\n",
       "      <td>0</td>\n",
       "      <td>I'm wired I know I'm George I was made that wa...</td>\n",
       "    </tr>\n",
       "    <tr>\n",
       "      <th>4</th>\n",
       "      <td>5</td>\n",
       "      <td>1</td>\n",
       "      <td>What amazing service! Apple won't even talk to...</td>\n",
       "    </tr>\n",
       "  </tbody>\n",
       "</table>\n",
       "</div>"
      ],
      "text/plain": [
       "   id  label                                              tweet\n",
       "0   1      0  #fingerprint #Pregnancy Test https://goo.gl/h1...\n",
       "1   2      0  Finally a transparant silicon case ^^ Thanks t...\n",
       "2   3      0  We love this! Would you go? #talk #makememorie...\n",
       "3   4      0  I'm wired I know I'm George I was made that wa...\n",
       "4   5      1  What amazing service! Apple won't even talk to..."
      ]
     },
     "execution_count": 8,
     "metadata": {},
     "output_type": "execute_result"
    }
   ],
   "source": [
    "data.head()"
   ]
  },
  {
   "cell_type": "markdown",
   "id": "2ee644d2-5536-4b2f-9eb7-3cf28155c0df",
   "metadata": {},
   "source": [
    "## Data Preprocessing\n"
   ]
  },
  {
   "cell_type": "code",
   "execution_count": 9,
   "id": "5d096204-f784-404f-a74f-abf857b80578",
   "metadata": {},
   "outputs": [
    {
     "data": {
      "text/plain": [
       "(7920, 3)"
      ]
     },
     "execution_count": 9,
     "metadata": {},
     "output_type": "execute_result"
    }
   ],
   "source": [
    "data.shape"
   ]
  },
  {
   "cell_type": "code",
   "execution_count": 10,
   "id": "6d440775-08b9-4ac2-a3df-11b2ac26a0f0",
   "metadata": {},
   "outputs": [
    {
     "data": {
      "text/plain": [
       "0       False\n",
       "1       False\n",
       "2       False\n",
       "3       False\n",
       "4       False\n",
       "        ...  \n",
       "7915    False\n",
       "7916    False\n",
       "7917    False\n",
       "7918    False\n",
       "7919    False\n",
       "Length: 7920, dtype: bool"
      ]
     },
     "execution_count": 10,
     "metadata": {},
     "output_type": "execute_result"
    }
   ],
   "source": [
    "data.duplicated()"
   ]
  },
  {
   "cell_type": "code",
   "execution_count": 11,
   "id": "0f89b928-455c-4773-af7e-c16e08b7aff3",
   "metadata": {},
   "outputs": [
    {
     "data": {
      "text/plain": [
       "np.int64(0)"
      ]
     },
     "execution_count": 11,
     "metadata": {},
     "output_type": "execute_result"
    }
   ],
   "source": [
    "data.duplicated().sum()"
   ]
  },
  {
   "cell_type": "code",
   "execution_count": 12,
   "id": "aecb45b2-81e7-40b2-8801-bb2c7b61fb4a",
   "metadata": {},
   "outputs": [
    {
     "data": {
      "text/plain": [
       "id       0\n",
       "label    0\n",
       "tweet    0\n",
       "dtype: int64"
      ]
     },
     "execution_count": 12,
     "metadata": {},
     "output_type": "execute_result"
    }
   ],
   "source": [
    "data.isnull().sum()"
   ]
  },
  {
   "cell_type": "markdown",
   "id": "b4607c27-89af-46d4-8b90-698da4b1249a",
   "metadata": {},
   "source": [
    "## Text Preprocessing"
   ]
  },
  {
   "cell_type": "code",
   "execution_count": 13,
   "id": "2a6597c7-ba3d-47af-8323-d2fc6c69722c",
   "metadata": {},
   "outputs": [],
   "source": [
    "import re\n",
    "import string"
   ]
  },
  {
   "cell_type": "markdown",
   "id": "98561f99-a857-40e7-ad6b-e654ad272239",
   "metadata": {},
   "source": [
    "## Convert Uppercase to lowercase"
   ]
  },
  {
   "cell_type": "code",
   "execution_count": 14,
   "id": "a7d0bfac-1e3e-44b9-8458-513724cca8af",
   "metadata": {},
   "outputs": [
    {
     "data": {
      "text/plain": [
       "0    #fingerprint #Pregnancy Test https://goo.gl/h1...\n",
       "1    Finally a transparant silicon case ^^ Thanks t...\n",
       "2    We love this! Would you go? #talk #makememorie...\n",
       "3    I'm wired I know I'm George I was made that wa...\n",
       "4    What amazing service! Apple won't even talk to...\n",
       "Name: tweet, dtype: object"
      ]
     },
     "execution_count": 14,
     "metadata": {},
     "output_type": "execute_result"
    }
   ],
   "source": [
    "data[\"tweet\"].head(5)"
   ]
  },
  {
   "cell_type": "code",
   "execution_count": 16,
   "id": "469e4599-d4f2-4938-9b1f-9199ab1051f1",
   "metadata": {},
   "outputs": [],
   "source": [
    "data[\"tweet\"] = data[\"tweet\"].apply(lambda x: \" \".join(x.lower() for x in x.split()))\n"
   ]
  },
  {
   "cell_type": "code",
   "execution_count": 17,
   "id": "0fbfe65a-72dc-467c-9534-ede3e238e0d9",
   "metadata": {},
   "outputs": [
    {
     "data": {
      "text/plain": [
       "0    #fingerprint #pregnancy test https://goo.gl/h1...\n",
       "1    finally a transparant silicon case ^^ thanks t...\n",
       "2    we love this! would you go? #talk #makememorie...\n",
       "3    i'm wired i know i'm george i was made that wa...\n",
       "4    what amazing service! apple won't even talk to...\n",
       "Name: tweet, dtype: object"
      ]
     },
     "execution_count": 17,
     "metadata": {},
     "output_type": "execute_result"
    }
   ],
   "source": [
    "data[\"tweet\"].head(5)"
   ]
  },
  {
   "cell_type": "markdown",
   "id": "1b22867a-0948-4570-a2c9-411464d1f31e",
   "metadata": {},
   "source": [
    "## Remove link"
   ]
  },
  {
   "cell_type": "code",
   "execution_count": 20,
   "id": "cc9fc729-52fd-4c09-a17c-e14248fc7d02",
   "metadata": {},
   "outputs": [],
   "source": [
    "\n",
    "data[\"tweet\"] = data[\"tweet\"].apply(lambda x: \" \".join(re.sub(r'^https?:\\/\\/.*[\\r\\n]*', '', word) for word in x.split()))\n"
   ]
  },
  {
   "cell_type": "code",
   "execution_count": 21,
   "id": "b4588de7-9e93-4877-a50c-6a7c73b938dc",
   "metadata": {},
   "outputs": [
    {
     "data": {
      "text/plain": [
       "0    #fingerprint #pregnancy test #android #apps #b...\n",
       "1    finally a transparant silicon case ^^ thanks t...\n",
       "2    we love this! would you go? #talk #makememorie...\n",
       "3    i'm wired i know i'm george i was made that wa...\n",
       "4    what amazing service! apple won't even talk to...\n",
       "Name: tweet, dtype: object"
      ]
     },
     "execution_count": 21,
     "metadata": {},
     "output_type": "execute_result"
    }
   ],
   "source": [
    "data[\"tweet\"].head(5)"
   ]
  },
  {
   "cell_type": "markdown",
   "id": "18de88bf-cbaf-4c30-b074-9244598ccf47",
   "metadata": {},
   "source": [
    "Remove punctuations"
   ]
  },
  {
   "cell_type": "code",
   "execution_count": 22,
   "id": "5da3aaf4-82ad-4b89-9a87-711024a8c6d4",
   "metadata": {},
   "outputs": [
    {
     "data": {
      "text/plain": [
       "'!\"#$%&\\'()*+,-./:;<=>?@[\\\\]^_`{|}~'"
      ]
     },
     "execution_count": 22,
     "metadata": {},
     "output_type": "execute_result"
    }
   ],
   "source": [
    "string.punctuation"
   ]
  },
  {
   "cell_type": "code",
   "execution_count": 25,
   "id": "887487d1-c5c4-4ce0-9a1d-2186d442c87b",
   "metadata": {},
   "outputs": [],
   "source": [
    "def remove_punctuations(text):\n",
    "    for punctuation in string.punctuation:\n",
    "        text = text.replace(punctuation, '')\n",
    "    return text\n",
    "\n",
    "data[\"tweet\"] = data[\"tweet\"].apply(remove_punctuations)"
   ]
  },
  {
   "cell_type": "code",
   "execution_count": 26,
   "id": "bbb58515-8a3a-4664-87b8-c7e68cb8c8ee",
   "metadata": {},
   "outputs": [
    {
     "data": {
      "text/plain": [
       "0    fingerprint pregnancy test android apps beauti...\n",
       "1    finally a transparant silicon case  thanks to ...\n",
       "2    we love this would you go talk makememories un...\n",
       "3    im wired i know im george i was made that way ...\n",
       "4    what amazing service apple wont even talk to m...\n",
       "Name: tweet, dtype: object"
      ]
     },
     "execution_count": 26,
     "metadata": {},
     "output_type": "execute_result"
    }
   ],
   "source": [
    "data[\"tweet\"].head(5)"
   ]
  },
  {
   "cell_type": "markdown",
   "id": "b6d854a1-09eb-4c5e-980b-db011e8bd7c4",
   "metadata": {},
   "source": [
    "Remove numbers"
   ]
  },
  {
   "cell_type": "code",
   "execution_count": 27,
   "id": "10eba652-d68d-46ea-8cc2-5c6fa65713ed",
   "metadata": {},
   "outputs": [
    {
     "data": {
      "text/plain": [
       "7910    perfect match instagood applewatch red instagr...\n",
       "7911    i am completely in love with the new iphone em...\n",
       "7912    tune in turn on drop out  gtd in one app mobil...\n",
       "7913    ok so my galaxy crashed after one day now i ha...\n",
       "7914    gain followers rt this must follow me i follow...\n",
       "7915    live out loud lol liveoutloud selfie smile son...\n",
       "7916    we would like to wish you an amazing day make ...\n",
       "7917    helping my lovely 90 year old neighbor with he...\n",
       "7918    finally got my smart pocket wifi stay connecte...\n",
       "7919    apple barcelona apple store bcn barcelona trav...\n",
       "Name: tweet, dtype: object"
      ]
     },
     "execution_count": 27,
     "metadata": {},
     "output_type": "execute_result"
    }
   ],
   "source": [
    "data[\"tweet\"].tail(10)"
   ]
  },
  {
   "cell_type": "code",
   "execution_count": 28,
   "id": "b084f4a7-b57a-4f33-8f9b-bbef7203843a",
   "metadata": {},
   "outputs": [],
   "source": [
    "data[\"tweet\"] = data['tweet'].str.replace('\\d+','',regex=True)"
   ]
  },
  {
   "cell_type": "code",
   "execution_count": 29,
   "id": "81135e1a-997b-42d8-9132-b78f1f51d79e",
   "metadata": {},
   "outputs": [
    {
     "data": {
      "text/plain": [
       "7910    perfect match instagood applewatch red instagr...\n",
       "7911    i am completely in love with the new iphone em...\n",
       "7912    tune in turn on drop out  gtd in one app mobil...\n",
       "7913    ok so my galaxy crashed after one day now i ha...\n",
       "7914    gain followers rt this must follow me i follow...\n",
       "7915    live out loud lol liveoutloud selfie smile son...\n",
       "7916    we would like to wish you an amazing day make ...\n",
       "7917    helping my lovely  year old neighbor with her ...\n",
       "7918    finally got my smart pocket wifi stay connecte...\n",
       "7919    apple barcelona apple store bcn barcelona trav...\n",
       "Name: tweet, dtype: object"
      ]
     },
     "execution_count": 29,
     "metadata": {},
     "output_type": "execute_result"
    }
   ],
   "source": [
    "data[\"tweet\"].tail(10)"
   ]
  },
  {
   "cell_type": "markdown",
   "id": "399aacf9-87cc-4a81-b0b0-fcf2cf3d08c7",
   "metadata": {},
   "source": [
    "Remove stopwords"
   ]
  },
  {
   "cell_type": "code",
   "execution_count": 31,
   "id": "087f0df6-d4e2-48fe-b2c7-ec548ebb5858",
   "metadata": {},
   "outputs": [
    {
     "name": "stdout",
     "output_type": "stream",
     "text": [
      "Requirement already satisfied: nltk in f:\\ml project\\sentiment_analysis_project\\env\\lib\\site-packages (3.9.1)\n",
      "Requirement already satisfied: click in f:\\ml project\\sentiment_analysis_project\\env\\lib\\site-packages (from nltk) (8.1.7)\n",
      "Requirement already satisfied: joblib in f:\\ml project\\sentiment_analysis_project\\env\\lib\\site-packages (from nltk) (1.4.2)\n",
      "Requirement already satisfied: regex>=2021.8.3 in f:\\ml project\\sentiment_analysis_project\\env\\lib\\site-packages (from nltk) (2024.11.6)\n",
      "Requirement already satisfied: tqdm in f:\\ml project\\sentiment_analysis_project\\env\\lib\\site-packages (from nltk) (4.67.0)\n",
      "Requirement already satisfied: colorama in f:\\ml project\\sentiment_analysis_project\\env\\lib\\site-packages (from click->nltk) (0.4.6)\n",
      "Note: you may need to restart the kernel to use updated packages.\n"
     ]
    }
   ],
   "source": [
    "pip install nltk"
   ]
  },
  {
   "cell_type": "code",
   "execution_count": 32,
   "id": "cf702fcf-21d2-428c-b85d-99eb277a5cb3",
   "metadata": {},
   "outputs": [],
   "source": [
    "import nltk"
   ]
  },
  {
   "cell_type": "code",
   "execution_count": 33,
   "id": "76522488-4212-4018-abc1-16c39682c643",
   "metadata": {},
   "outputs": [
    {
     "name": "stderr",
     "output_type": "stream",
     "text": [
      "[nltk_data] Downloading package stopwords to ../static/model...\n",
      "[nltk_data]   Unzipping corpora\\stopwords.zip.\n"
     ]
    },
    {
     "data": {
      "text/plain": [
       "True"
      ]
     },
     "execution_count": 33,
     "metadata": {},
     "output_type": "execute_result"
    }
   ],
   "source": [
    "nltk.download('stopwords',download_dir='../static/model')"
   ]
  },
  {
   "cell_type": "code",
   "execution_count": 34,
   "id": "53092468-ab39-4777-93d2-b82ff13e39a0",
   "metadata": {},
   "outputs": [],
   "source": [
    "with open('../static/model/corpora/stopwords/english','r') as file:\n",
    "    sw = file.read().splitlines()"
   ]
  },
  {
   "cell_type": "code",
   "execution_count": 35,
   "id": "edc3dbd0-d235-4fdc-b9e2-3fbee99d8cc8",
   "metadata": {},
   "outputs": [
    {
     "data": {
      "text/plain": [
       "['i',\n",
       " 'me',\n",
       " 'my',\n",
       " 'myself',\n",
       " 'we',\n",
       " 'our',\n",
       " 'ours',\n",
       " 'ourselves',\n",
       " 'you',\n",
       " \"you're\",\n",
       " \"you've\",\n",
       " \"you'll\",\n",
       " \"you'd\",\n",
       " 'your',\n",
       " 'yours',\n",
       " 'yourself',\n",
       " 'yourselves',\n",
       " 'he',\n",
       " 'him',\n",
       " 'his',\n",
       " 'himself',\n",
       " 'she',\n",
       " \"she's\",\n",
       " 'her',\n",
       " 'hers',\n",
       " 'herself',\n",
       " 'it',\n",
       " \"it's\",\n",
       " 'its',\n",
       " 'itself',\n",
       " 'they',\n",
       " 'them',\n",
       " 'their',\n",
       " 'theirs',\n",
       " 'themselves',\n",
       " 'what',\n",
       " 'which',\n",
       " 'who',\n",
       " 'whom',\n",
       " 'this',\n",
       " 'that',\n",
       " \"that'll\",\n",
       " 'these',\n",
       " 'those',\n",
       " 'am',\n",
       " 'is',\n",
       " 'are',\n",
       " 'was',\n",
       " 'were',\n",
       " 'be',\n",
       " 'been',\n",
       " 'being',\n",
       " 'have',\n",
       " 'has',\n",
       " 'had',\n",
       " 'having',\n",
       " 'do',\n",
       " 'does',\n",
       " 'did',\n",
       " 'doing',\n",
       " 'a',\n",
       " 'an',\n",
       " 'the',\n",
       " 'and',\n",
       " 'but',\n",
       " 'if',\n",
       " 'or',\n",
       " 'because',\n",
       " 'as',\n",
       " 'until',\n",
       " 'while',\n",
       " 'of',\n",
       " 'at',\n",
       " 'by',\n",
       " 'for',\n",
       " 'with',\n",
       " 'about',\n",
       " 'against',\n",
       " 'between',\n",
       " 'into',\n",
       " 'through',\n",
       " 'during',\n",
       " 'before',\n",
       " 'after',\n",
       " 'above',\n",
       " 'below',\n",
       " 'to',\n",
       " 'from',\n",
       " 'up',\n",
       " 'down',\n",
       " 'in',\n",
       " 'out',\n",
       " 'on',\n",
       " 'off',\n",
       " 'over',\n",
       " 'under',\n",
       " 'again',\n",
       " 'further',\n",
       " 'then',\n",
       " 'once',\n",
       " 'here',\n",
       " 'there',\n",
       " 'when',\n",
       " 'where',\n",
       " 'why',\n",
       " 'how',\n",
       " 'all',\n",
       " 'any',\n",
       " 'both',\n",
       " 'each',\n",
       " 'few',\n",
       " 'more',\n",
       " 'most',\n",
       " 'other',\n",
       " 'some',\n",
       " 'such',\n",
       " 'no',\n",
       " 'nor',\n",
       " 'not',\n",
       " 'only',\n",
       " 'own',\n",
       " 'same',\n",
       " 'so',\n",
       " 'than',\n",
       " 'too',\n",
       " 'very',\n",
       " 's',\n",
       " 't',\n",
       " 'can',\n",
       " 'will',\n",
       " 'just',\n",
       " 'don',\n",
       " \"don't\",\n",
       " 'should',\n",
       " \"should've\",\n",
       " 'now',\n",
       " 'd',\n",
       " 'll',\n",
       " 'm',\n",
       " 'o',\n",
       " 're',\n",
       " 've',\n",
       " 'y',\n",
       " 'ain',\n",
       " 'aren',\n",
       " \"aren't\",\n",
       " 'couldn',\n",
       " \"couldn't\",\n",
       " 'didn',\n",
       " \"didn't\",\n",
       " 'doesn',\n",
       " \"doesn't\",\n",
       " 'hadn',\n",
       " \"hadn't\",\n",
       " 'hasn',\n",
       " \"hasn't\",\n",
       " 'haven',\n",
       " \"haven't\",\n",
       " 'isn',\n",
       " \"isn't\",\n",
       " 'ma',\n",
       " 'mightn',\n",
       " \"mightn't\",\n",
       " 'mustn',\n",
       " \"mustn't\",\n",
       " 'needn',\n",
       " \"needn't\",\n",
       " 'shan',\n",
       " \"shan't\",\n",
       " 'shouldn',\n",
       " \"shouldn't\",\n",
       " 'wasn',\n",
       " \"wasn't\",\n",
       " 'weren',\n",
       " \"weren't\",\n",
       " 'won',\n",
       " \"won't\",\n",
       " 'wouldn',\n",
       " \"wouldn't\"]"
      ]
     },
     "execution_count": 35,
     "metadata": {},
     "output_type": "execute_result"
    }
   ],
   "source": [
    "sw"
   ]
  },
  {
   "cell_type": "code",
   "execution_count": 38,
   "id": "1830da88-b92e-4b98-806c-b19b3143f8ef",
   "metadata": {},
   "outputs": [],
   "source": [
    "data[\"tweet\"] = data[\"tweet\"].apply(lambda x: \" \".join([word for word in x.split() if word not in sw]))"
   ]
  },
  {
   "cell_type": "code",
   "execution_count": 39,
   "id": "10a62b7b-8e4f-4ca2-b95c-b95803386ac1",
   "metadata": {},
   "outputs": [
    {
     "data": {
      "text/plain": [
       "0    fingerprint pregnancy test android apps beauti...\n",
       "1    finally transparant silicon case thanks uncle ...\n",
       "2    love would go talk makememories unplug relax i...\n",
       "3    im wired know im george made way iphone cute d...\n",
       "4    amazing service apple wont even talk question ...\n",
       "Name: tweet, dtype: object"
      ]
     },
     "execution_count": 39,
     "metadata": {},
     "output_type": "execute_result"
    }
   ],
   "source": [
    "data[\"tweet\"].head(5)"
   ]
  },
  {
   "cell_type": "markdown",
   "id": "90e91407-90ee-46fb-8411-bc65bf3f955b",
   "metadata": {},
   "source": [
    "Stemming"
   ]
  },
  {
   "cell_type": "code",
   "execution_count": 41,
   "id": "d14efac5-37c3-42ef-ac4f-3da042c50571",
   "metadata": {},
   "outputs": [],
   "source": [
    "from nltk.stem import PorterStemmer\n",
    "\n",
    "ps = PorterStemmer()\n"
   ]
  },
  {
   "cell_type": "code",
   "execution_count": 42,
   "id": "a895a23e-bd66-4db0-bf90-e1bdb240d949",
   "metadata": {},
   "outputs": [],
   "source": [
    "data[\"tweet\"] = data[\"tweet\"].apply(lambda x: \" \".join(ps.stem(x) for x in x.split()))"
   ]
  },
  {
   "cell_type": "code",
   "execution_count": 43,
   "id": "10a05dec-0b39-451f-8e8b-d602fe99102c",
   "metadata": {},
   "outputs": [
    {
     "data": {
      "text/plain": [
       "0    fingerprint pregnanc test android app beauti c...\n",
       "1    final transpar silicon case thank uncl yay son...\n",
       "2    love would go talk makememori unplug relax iph...\n",
       "3    im wire know im georg made way iphon cute dave...\n",
       "4    amaz servic appl wont even talk question unles...\n",
       "Name: tweet, dtype: object"
      ]
     },
     "execution_count": 43,
     "metadata": {},
     "output_type": "execute_result"
    }
   ],
   "source": [
    "data[\"tweet\"].head(5)"
   ]
  },
  {
   "cell_type": "code",
   "execution_count": 44,
   "id": "c2a60e6e-ab4b-4828-b31e-a619ae59718a",
   "metadata": {},
   "outputs": [
    {
     "data": {
      "text/html": [
       "<div>\n",
       "<style scoped>\n",
       "    .dataframe tbody tr th:only-of-type {\n",
       "        vertical-align: middle;\n",
       "    }\n",
       "\n",
       "    .dataframe tbody tr th {\n",
       "        vertical-align: top;\n",
       "    }\n",
       "\n",
       "    .dataframe thead th {\n",
       "        text-align: right;\n",
       "    }\n",
       "</style>\n",
       "<table border=\"1\" class=\"dataframe\">\n",
       "  <thead>\n",
       "    <tr style=\"text-align: right;\">\n",
       "      <th></th>\n",
       "      <th>id</th>\n",
       "      <th>label</th>\n",
       "      <th>tweet</th>\n",
       "    </tr>\n",
       "  </thead>\n",
       "  <tbody>\n",
       "    <tr>\n",
       "      <th>0</th>\n",
       "      <td>1</td>\n",
       "      <td>0</td>\n",
       "      <td>fingerprint pregnanc test android app beauti c...</td>\n",
       "    </tr>\n",
       "    <tr>\n",
       "      <th>1</th>\n",
       "      <td>2</td>\n",
       "      <td>0</td>\n",
       "      <td>final transpar silicon case thank uncl yay son...</td>\n",
       "    </tr>\n",
       "    <tr>\n",
       "      <th>2</th>\n",
       "      <td>3</td>\n",
       "      <td>0</td>\n",
       "      <td>love would go talk makememori unplug relax iph...</td>\n",
       "    </tr>\n",
       "    <tr>\n",
       "      <th>3</th>\n",
       "      <td>4</td>\n",
       "      <td>0</td>\n",
       "      <td>im wire know im georg made way iphon cute dave...</td>\n",
       "    </tr>\n",
       "    <tr>\n",
       "      <th>4</th>\n",
       "      <td>5</td>\n",
       "      <td>1</td>\n",
       "      <td>amaz servic appl wont even talk question unles...</td>\n",
       "    </tr>\n",
       "    <tr>\n",
       "      <th>...</th>\n",
       "      <td>...</td>\n",
       "      <td>...</td>\n",
       "      <td>...</td>\n",
       "    </tr>\n",
       "    <tr>\n",
       "      <th>7915</th>\n",
       "      <td>7916</td>\n",
       "      <td>0</td>\n",
       "      <td>live loud lol liveoutloud selfi smile soni mus...</td>\n",
       "    </tr>\n",
       "    <tr>\n",
       "      <th>7916</th>\n",
       "      <td>7917</td>\n",
       "      <td>0</td>\n",
       "      <td>would like wish amaz day make everi minut coun...</td>\n",
       "    </tr>\n",
       "    <tr>\n",
       "      <th>7917</th>\n",
       "      <td>7918</td>\n",
       "      <td>0</td>\n",
       "      <td>help love year old neighbor ipad morn made rea...</td>\n",
       "    </tr>\n",
       "    <tr>\n",
       "      <th>7918</th>\n",
       "      <td>7919</td>\n",
       "      <td>0</td>\n",
       "      <td>final got smart pocket wifi stay connect anyti...</td>\n",
       "    </tr>\n",
       "    <tr>\n",
       "      <th>7919</th>\n",
       "      <td>7920</td>\n",
       "      <td>0</td>\n",
       "      <td>appl barcelona appl store bcn barcelona travel...</td>\n",
       "    </tr>\n",
       "  </tbody>\n",
       "</table>\n",
       "<p>7920 rows × 3 columns</p>\n",
       "</div>"
      ],
      "text/plain": [
       "        id  label                                              tweet\n",
       "0        1      0  fingerprint pregnanc test android app beauti c...\n",
       "1        2      0  final transpar silicon case thank uncl yay son...\n",
       "2        3      0  love would go talk makememori unplug relax iph...\n",
       "3        4      0  im wire know im georg made way iphon cute dave...\n",
       "4        5      1  amaz servic appl wont even talk question unles...\n",
       "...    ...    ...                                                ...\n",
       "7915  7916      0  live loud lol liveoutloud selfi smile soni mus...\n",
       "7916  7917      0  would like wish amaz day make everi minut coun...\n",
       "7917  7918      0  help love year old neighbor ipad morn made rea...\n",
       "7918  7919      0  final got smart pocket wifi stay connect anyti...\n",
       "7919  7920      0  appl barcelona appl store bcn barcelona travel...\n",
       "\n",
       "[7920 rows x 3 columns]"
      ]
     },
     "execution_count": 44,
     "metadata": {},
     "output_type": "execute_result"
    }
   ],
   "source": [
    "data"
   ]
  },
  {
   "cell_type": "markdown",
   "id": "e3d86bb3-fba0-473c-b717-0859df946fdb",
   "metadata": {},
   "source": [
    "##Building Vocabulary"
   ]
  },
  {
   "cell_type": "code",
   "execution_count": 47,
   "id": "a460df38-ce3f-4a65-ae11-9e808223eaff",
   "metadata": {},
   "outputs": [],
   "source": [
    "from collections import Counter\n",
    "vocab = Counter() "
   ]
  },
  {
   "cell_type": "code",
   "execution_count": 50,
   "id": "e63b48c0-9d3e-4494-8e98-41c5d9cd6c50",
   "metadata": {},
   "outputs": [],
   "source": [
    "for sentence in data['tweet']:\n",
    "    vocab.update(sentence.split())"
   ]
  },
  {
   "cell_type": "code",
   "execution_count": 52,
   "id": "e8b90221-7cfc-411a-b111-9a4e18a05e6f",
   "metadata": {},
   "outputs": [
    {
     "data": {
      "text/plain": [
       "15951"
      ]
     },
     "execution_count": 52,
     "metadata": {},
     "output_type": "execute_result"
    }
   ],
   "source": [
    "len(vocab)"
   ]
  },
  {
   "cell_type": "code",
   "execution_count": 53,
   "id": "d931afab-b1e9-4360-8f60-a9825747df75",
   "metadata": {},
   "outputs": [
    {
     "data": {
      "text/plain": [
       "(7920, 3)"
      ]
     },
     "execution_count": 53,
     "metadata": {},
     "output_type": "execute_result"
    }
   ],
   "source": [
    "data.shape"
   ]
  },
  {
   "cell_type": "code",
   "execution_count": 54,
   "id": "2db26c3c-920f-46f2-b4f6-58ddd1087206",
   "metadata": {},
   "outputs": [],
   "source": [
    "tokens = [key for key in vocab if vocab[key] >10]"
   ]
  },
  {
   "cell_type": "code",
   "execution_count": 55,
   "id": "c9edbf2a-5832-474c-a279-518498c872b1",
   "metadata": {},
   "outputs": [
    {
     "data": {
      "text/plain": [
       "1145"
      ]
     },
     "execution_count": 55,
     "metadata": {},
     "output_type": "execute_result"
    }
   ],
   "source": [
    "len(tokens)"
   ]
  },
  {
   "cell_type": "code",
   "execution_count": 57,
   "id": "c5a27ecb-f75f-40d1-9fae-85083b545550",
   "metadata": {},
   "outputs": [],
   "source": [
    "def save_vocabulary(lines, filename):\n",
    "    data = '\\n'.join(lines)\n",
    "    file = open(filename, 'w' , encoding=\"utf-8\")\n",
    "    file.write(data)\n",
    "    file.close()\n",
    "\n",
    "save_vocabulary(tokens, '../static/model/vocabulary.txt')"
   ]
  },
  {
   "cell_type": "markdown",
   "id": "5fa196a1-5457-4be7-a955-e19e7aa92eb2",
   "metadata": {},
   "source": [
    "## Divide Dataset (for train & testing)"
   ]
  },
  {
   "cell_type": "code",
   "execution_count": 58,
   "id": "f311bc89-10f8-4084-b761-c6466f064a37",
   "metadata": {},
   "outputs": [],
   "source": [
    "x = data[\"tweet\"]\n",
    "y = data [\"label\"]"
   ]
  },
  {
   "cell_type": "code",
   "execution_count": 60,
   "id": "a95dfb50-d734-497f-85d1-b0c09b5f6627",
   "metadata": {},
   "outputs": [
    {
     "name": "stdout",
     "output_type": "stream",
     "text": [
      "Note: you may need to restart the kernel to use updated packages.Collecting scikit-learn\n",
      "  Downloading scikit_learn-1.5.2-cp311-cp311-win_amd64.whl.metadata (13 kB)\n",
      "Requirement already satisfied: numpy>=1.19.5 in f:\\ml project\\sentiment_analysis_project\\env\\lib\\site-packages (from scikit-learn) (2.1.3)\n",
      "Collecting scipy>=1.6.0 (from scikit-learn)\n",
      "  Downloading scipy-1.14.1-cp311-cp311-win_amd64.whl.metadata (60 kB)\n",
      "Requirement already satisfied: joblib>=1.2.0 in f:\\ml project\\sentiment_analysis_project\\env\\lib\\site-packages (from scikit-learn) (1.4.2)\n",
      "Collecting threadpoolctl>=3.1.0 (from scikit-learn)\n",
      "  Downloading threadpoolctl-3.5.0-py3-none-any.whl.metadata (13 kB)\n",
      "Downloading scikit_learn-1.5.2-cp311-cp311-win_amd64.whl (11.0 MB)\n",
      "   ---------------------------------------- 0.0/11.0 MB ? eta -:--:--\n",
      "   ---------------------------------------- 0.0/11.0 MB ? eta -:--:--\n",
      "    --------------------------------------- 0.3/11.0 MB ? eta -:--:--\n",
      "   -- ------------------------------------- 0.8/11.0 MB 2.1 MB/s eta 0:00:05\n",
      "   ---- ----------------------------------- 1.3/11.0 MB 2.5 MB/s eta 0:00:04\n",
      "   ------- -------------------------------- 2.1/11.0 MB 2.7 MB/s eta 0:00:04\n",
      "   -------- ------------------------------- 2.4/11.0 MB 2.7 MB/s eta 0:00:04\n",
      "   --------- ------------------------------ 2.6/11.0 MB 2.4 MB/s eta 0:00:04\n",
      "   ---------- ----------------------------- 2.9/11.0 MB 2.0 MB/s eta 0:00:05\n",
      "   ----------- ---------------------------- 3.1/11.0 MB 1.9 MB/s eta 0:00:05\n",
      "   ------------ --------------------------- 3.4/11.0 MB 1.9 MB/s eta 0:00:05\n",
      "   ------------ --------------------------- 3.4/11.0 MB 1.9 MB/s eta 0:00:05\n",
      "   ------------- -------------------------- 3.7/11.0 MB 1.6 MB/s eta 0:00:05\n",
      "   ------------- -------------------------- 3.7/11.0 MB 1.6 MB/s eta 0:00:05\n",
      "   -------------- ------------------------- 3.9/11.0 MB 1.4 MB/s eta 0:00:05\n",
      "   -------------- ------------------------- 3.9/11.0 MB 1.4 MB/s eta 0:00:05\n",
      "   --------------- ------------------------ 4.2/11.0 MB 1.4 MB/s eta 0:00:06\n",
      "   ----------------- ---------------------- 4.7/11.0 MB 1.4 MB/s eta 0:00:05\n",
      "   ----------------- ---------------------- 4.7/11.0 MB 1.4 MB/s eta 0:00:05\n",
      "   ------------------ --------------------- 5.0/11.0 MB 1.3 MB/s eta 0:00:05\n",
      "   ------------------- -------------------- 5.2/11.0 MB 1.3 MB/s eta 0:00:05\n",
      "   ------------------- -------------------- 5.2/11.0 MB 1.3 MB/s eta 0:00:05\n",
      "   ------------------- -------------------- 5.5/11.0 MB 1.2 MB/s eta 0:00:05\n",
      "   -------------------- ------------------- 5.8/11.0 MB 1.2 MB/s eta 0:00:05\n",
      "   -------------------- ------------------- 5.8/11.0 MB 1.2 MB/s eta 0:00:05\n",
      "   --------------------- ------------------ 6.0/11.0 MB 1.2 MB/s eta 0:00:05\n",
      "   ---------------------- ----------------- 6.3/11.0 MB 1.2 MB/s eta 0:00:05\n",
      "   ------------------------ --------------- 6.8/11.0 MB 1.2 MB/s eta 0:00:04\n",
      "   -------------------------- ------------- 7.3/11.0 MB 1.3 MB/s eta 0:00:03\n",
      "   ---------------------------- ----------- 7.9/11.0 MB 1.3 MB/s eta 0:00:03\n",
      "   ----------------------------- ---------- 8.1/11.0 MB 1.3 MB/s eta 0:00:03\n",
      "   ----------------------------- ---------- 8.1/11.0 MB 1.3 MB/s eta 0:00:03\n",
      "   ------------------------------- -------- 8.7/11.0 MB 1.3 MB/s eta 0:00:02\n",
      "   --------------------------------- ------ 9.2/11.0 MB 1.3 MB/s eta 0:00:02\n",
      "   ----------------------------------- ---- 9.7/11.0 MB 1.4 MB/s eta 0:00:01\n",
      "   -------------------------------------- - 10.5/11.0 MB 1.4 MB/s eta 0:00:01\n",
      "   ---------------------------------------  11.0/11.0 MB 1.5 MB/s eta 0:00:01\n",
      "   ---------------------------------------- 11.0/11.0 MB 1.4 MB/s eta 0:00:00\n",
      "Downloading scipy-1.14.1-cp311-cp311-win_amd64.whl (44.8 MB)\n",
      "   ---------------------------------------- 0.0/44.8 MB ? eta -:--:--\n",
      "   ---------------------------------------- 0.0/44.8 MB ? eta -:--:--\n",
      "   ---------------------------------------- 0.3/44.8 MB ? eta -:--:--\n",
      "   ---------------------------------------- 0.3/44.8 MB ? eta -:--:--\n",
      "   ---------------------------------------- 0.3/44.8 MB ? eta -:--:--\n",
      "   ---------------------------------------- 0.3/44.8 MB ? eta -:--:--\n",
      "   ---------------------------------------- 0.3/44.8 MB ? eta -:--:--\n",
      "   ---------------------------------------- 0.3/44.8 MB ? eta -:--:--\n",
      "   ---------------------------------------- 0.3/44.8 MB ? eta -:--:--\n",
      "   ---------------------------------------- 0.3/44.8 MB ? eta -:--:--\n",
      "   --- ------------------------------------ 3.9/44.8 MB 2.0 MB/s eta 0:00:21\n",
      "   --- ------------------------------------ 4.2/44.8 MB 1.9 MB/s eta 0:00:22\n",
      "   --- ------------------------------------ 4.2/44.8 MB 1.9 MB/s eta 0:00:22\n",
      "   --- ------------------------------------ 4.5/44.8 MB 1.7 MB/s eta 0:00:25\n",
      "   --- ------------------------------------ 4.5/44.8 MB 1.7 MB/s eta 0:00:25\n",
      "   ---- ----------------------------------- 4.7/44.8 MB 1.5 MB/s eta 0:00:27\n",
      "   ---- ----------------------------------- 5.0/44.8 MB 1.5 MB/s eta 0:00:27\n",
      "   ---- ----------------------------------- 5.0/44.8 MB 1.5 MB/s eta 0:00:27\n",
      "   ---- ----------------------------------- 5.2/44.8 MB 1.4 MB/s eta 0:00:28\n",
      "   ----- ---------------------------------- 5.8/44.8 MB 1.4 MB/s eta 0:00:27\n",
      "   ----- ---------------------------------- 6.3/44.8 MB 1.5 MB/s eta 0:00:26\n",
      "   ------ --------------------------------- 7.3/44.8 MB 1.7 MB/s eta 0:00:23\n",
      "   ------ --------------------------------- 7.6/44.8 MB 1.7 MB/s eta 0:00:22\n",
      "   ------- -------------------------------- 8.1/44.8 MB 1.7 MB/s eta 0:00:22\n",
      "   -------- ------------------------------- 9.2/44.8 MB 1.8 MB/s eta 0:00:20\n",
      "   --------- ------------------------------ 10.2/44.8 MB 1.9 MB/s eta 0:00:18\n",
      "   ---------- ----------------------------- 11.3/44.8 MB 2.1 MB/s eta 0:00:17\n",
      "   ---------- ----------------------------- 11.8/44.8 MB 2.1 MB/s eta 0:00:16\n",
      "   ----------- ---------------------------- 12.3/44.8 MB 2.1 MB/s eta 0:00:16\n",
      "   ----------- ---------------------------- 12.8/44.8 MB 2.1 MB/s eta 0:00:16\n",
      "   ----------- ---------------------------- 12.8/44.8 MB 2.1 MB/s eta 0:00:16\n",
      "   ----------- ---------------------------- 13.1/44.8 MB 2.0 MB/s eta 0:00:16\n",
      "   ----------- ---------------------------- 13.4/44.8 MB 2.0 MB/s eta 0:00:16\n",
      "   ----------- ---------------------------- 13.4/44.8 MB 2.0 MB/s eta 0:00:16\n",
      "   ------------ --------------------------- 13.6/44.8 MB 1.9 MB/s eta 0:00:17\n",
      "   ------------ --------------------------- 14.2/44.8 MB 1.9 MB/s eta 0:00:17\n",
      "   ------------- -------------------------- 14.9/44.8 MB 2.0 MB/s eta 0:00:16\n",
      "   -------------- ------------------------- 15.7/44.8 MB 2.0 MB/s eta 0:00:15\n",
      "   -------------- ------------------------- 16.3/44.8 MB 2.0 MB/s eta 0:00:15\n",
      "   -------------- ------------------------- 16.8/44.8 MB 2.1 MB/s eta 0:00:14\n",
      "   --------------- ------------------------ 17.3/44.8 MB 2.0 MB/s eta 0:00:14\n",
      "   ---------------- ----------------------- 18.1/44.8 MB 2.1 MB/s eta 0:00:13\n",
      "   ---------------- ----------------------- 18.6/44.8 MB 2.1 MB/s eta 0:00:13\n",
      "   ----------------- ---------------------- 19.1/44.8 MB 2.1 MB/s eta 0:00:13\n",
      "   ----------------- ---------------------- 19.7/44.8 MB 2.1 MB/s eta 0:00:12\n",
      "   ------------------ --------------------- 20.4/44.8 MB 2.1 MB/s eta 0:00:12\n",
      "   ------------------ --------------------- 20.7/44.8 MB 2.1 MB/s eta 0:00:12\n",
      "   ------------------- -------------------- 21.8/44.8 MB 2.2 MB/s eta 0:00:11\n",
      "   ------------------- -------------------- 22.3/44.8 MB 2.2 MB/s eta 0:00:11\n",
      "   -------------------- ------------------- 23.1/44.8 MB 2.2 MB/s eta 0:00:10\n",
      "   --------------------- ------------------ 23.6/44.8 MB 2.2 MB/s eta 0:00:10\n",
      "   --------------------- ------------------ 24.1/44.8 MB 2.2 MB/s eta 0:00:10\n",
      "   --------------------- ------------------ 24.4/44.8 MB 2.2 MB/s eta 0:00:10\n",
      "   ---------------------- ----------------- 24.6/44.8 MB 2.2 MB/s eta 0:00:10\n",
      "   ---------------------- ----------------- 24.9/44.8 MB 2.2 MB/s eta 0:00:09\n",
      "   ---------------------- ----------------- 25.7/44.8 MB 2.2 MB/s eta 0:00:09\n",
      "   ----------------------- ---------------- 26.2/44.8 MB 2.2 MB/s eta 0:00:09\n",
      "   ----------------------- ---------------- 26.5/44.8 MB 2.2 MB/s eta 0:00:09\n",
      "   ----------------------- ---------------- 26.7/44.8 MB 2.2 MB/s eta 0:00:09\n",
      "   ------------------------ --------------- 27.3/44.8 MB 2.2 MB/s eta 0:00:09\n",
      "   ------------------------ --------------- 27.8/44.8 MB 2.2 MB/s eta 0:00:08\n",
      "   ------------------------ --------------- 27.8/44.8 MB 2.2 MB/s eta 0:00:08\n",
      "   ------------------------ --------------- 27.8/44.8 MB 2.2 MB/s eta 0:00:08\n",
      "   ------------------------- -------------- 28.3/44.8 MB 2.1 MB/s eta 0:00:08\n",
      "   ------------------------- -------------- 28.8/44.8 MB 2.1 MB/s eta 0:00:08\n",
      "   ------------------------- -------------- 28.8/44.8 MB 2.1 MB/s eta 0:00:08\n",
      "   -------------------------- ------------- 29.4/44.8 MB 2.1 MB/s eta 0:00:08\n",
      "   --------------------------- ------------ 30.4/44.8 MB 2.1 MB/s eta 0:00:07\n",
      "   --------------------------- ------------ 31.2/44.8 MB 2.2 MB/s eta 0:00:07\n",
      "   ---------------------------- ----------- 32.0/44.8 MB 2.2 MB/s eta 0:00:06\n",
      "   ---------------------------- ----------- 32.2/44.8 MB 2.2 MB/s eta 0:00:06\n",
      "   ----------------------------- ---------- 33.0/44.8 MB 2.2 MB/s eta 0:00:06\n",
      "   ------------------------------ --------- 33.8/44.8 MB 2.2 MB/s eta 0:00:05\n",
      "   ------------------------------ --------- 34.6/44.8 MB 2.2 MB/s eta 0:00:05\n",
      "   ------------------------------- -------- 35.4/44.8 MB 2.3 MB/s eta 0:00:05\n",
      "   -------------------------------- ------- 36.2/44.8 MB 2.3 MB/s eta 0:00:04\n",
      "   --------------------------------- ------ 37.0/44.8 MB 2.3 MB/s eta 0:00:04\n",
      "   --------------------------------- ------ 37.7/44.8 MB 2.3 MB/s eta 0:00:04\n",
      "   ---------------------------------- ----- 38.5/44.8 MB 2.3 MB/s eta 0:00:03\n",
      "   ---------------------------------- ----- 39.1/44.8 MB 2.3 MB/s eta 0:00:03\n",
      "   ----------------------------------- ---- 39.6/44.8 MB 2.3 MB/s eta 0:00:03\n",
      "   ----------------------------------- ---- 39.6/44.8 MB 2.3 MB/s eta 0:00:03\n",
      "   ----------------------------------- ---- 39.8/44.8 MB 2.3 MB/s eta 0:00:03\n",
      "   ----------------------------------- ---- 40.1/44.8 MB 2.3 MB/s eta 0:00:03\n",
      "   ------------------------------------ --- 40.4/44.8 MB 2.3 MB/s eta 0:00:02\n",
      "   ------------------------------------ --- 40.4/44.8 MB 2.3 MB/s eta 0:00:02\n",
      "   ------------------------------------ --- 40.9/44.8 MB 2.2 MB/s eta 0:00:02\n",
      "   ------------------------------------ --- 40.9/44.8 MB 2.2 MB/s eta 0:00:02\n",
      "   ------------------------------------ --- 41.4/44.8 MB 2.2 MB/s eta 0:00:02\n",
      "   ------------------------------------- -- 41.9/44.8 MB 2.2 MB/s eta 0:00:02\n",
      "   ------------------------------------- -- 42.5/44.8 MB 2.2 MB/s eta 0:00:02\n",
      "   -------------------------------------- - 43.3/44.8 MB 2.2 MB/s eta 0:00:01\n",
      "   ---------------------------------------  43.8/44.8 MB 2.2 MB/s eta 0:00:01\n",
      "   ---------------------------------------  44.0/44.8 MB 2.2 MB/s eta 0:00:01\n",
      "   ---------------------------------------  44.6/44.8 MB 2.2 MB/s eta 0:00:01\n",
      "   ---------------------------------------  44.6/44.8 MB 2.2 MB/s eta 0:00:01\n",
      "   ---------------------------------------- 44.8/44.8 MB 2.2 MB/s eta 0:00:00\n",
      "Downloading threadpoolctl-3.5.0-py3-none-any.whl (18 kB)\n",
      "Installing collected packages: threadpoolctl, scipy, scikit-learn\n",
      "Successfully installed scikit-learn-1.5.2 scipy-1.14.1 threadpoolctl-3.5.0\n",
      "\n"
     ]
    }
   ],
   "source": [
    "pip install scikit-learn"
   ]
  },
  {
   "cell_type": "code",
   "execution_count": 67,
   "id": "23416674-9c86-45dd-abc4-b8b792f16109",
   "metadata": {},
   "outputs": [],
   "source": [
    "from sklearn.model_selection import train_test_split\n",
    "x_train ,x_test, y_train, y_test = train_test_split(x,y, test_size=0.2)"
   ]
  },
  {
   "cell_type": "code",
   "execution_count": 68,
   "id": "a65f1bf8-3e1d-4ab9-aae8-f384a562d251",
   "metadata": {},
   "outputs": [
    {
     "data": {
      "text/plain": [
       "(6336,)"
      ]
     },
     "execution_count": 68,
     "metadata": {},
     "output_type": "execute_result"
    }
   ],
   "source": [
    "x_train.shape"
   ]
  },
  {
   "cell_type": "code",
   "execution_count": 69,
   "id": "581cdfd3-7326-47af-9423-419a2e9d4ccf",
   "metadata": {},
   "outputs": [
    {
     "data": {
      "text/plain": [
       "(1584,)"
      ]
     },
     "execution_count": 69,
     "metadata": {},
     "output_type": "execute_result"
    }
   ],
   "source": [
    "y_test.shape"
   ]
  },
  {
   "cell_type": "code",
   "execution_count": 70,
   "id": "e38eee3d-8ec1-4b26-be8f-7db30455ce9b",
   "metadata": {},
   "outputs": [
    {
     "data": {
      "text/plain": [
       "2468    0\n",
       "904     0\n",
       "3773    1\n",
       "633     0\n",
       "2298    0\n",
       "       ..\n",
       "2284    0\n",
       "4325    0\n",
       "3202    0\n",
       "2571    1\n",
       "3538    0\n",
       "Name: label, Length: 1584, dtype: int64"
      ]
     },
     "execution_count": 70,
     "metadata": {},
     "output_type": "execute_result"
    }
   ],
   "source": [
    "y_test"
   ]
  },
  {
   "cell_type": "markdown",
   "id": "95695791-8196-4125-8243-1d010d1dd5f7",
   "metadata": {},
   "source": [
    "## Vectorization"
   ]
  },
  {
   "cell_type": "code",
   "execution_count": 71,
   "id": "e193c66f-3e67-4072-84f4-ea80a851565e",
   "metadata": {},
   "outputs": [],
   "source": [
    "def vectorizer(ds, vocabulary):\n",
    "    vectorized_1st = []\n",
    "\n",
    "    for sentence in ds:\n",
    "        sentence_1st = np.zeros(len(vocabulary))\n",
    "\n",
    "        for i in range(len(vocabulary)):\n",
    "            if vocabulary[i] in sentence.split():\n",
    "                sentence_1st[i] = 1\n",
    "\n",
    "        vectorized_1st.append(sentence_1st)\n",
    "\n",
    "    vectorized_1st_new = np.asarray(vectorized_1st, dtype=np.float32)\n",
    "\n",
    "    return vectorized_1st_new"
   ]
  },
  {
   "cell_type": "code",
   "execution_count": 72,
   "id": "ed864648-a246-41d8-b839-73357336bcd5",
   "metadata": {},
   "outputs": [],
   "source": [
    "vectorized_x_train = vectorizer(x_train, tokens)"
   ]
  },
  {
   "cell_type": "code",
   "execution_count": 73,
   "id": "1e4b0460-2cbc-4755-8d81-91197da05cd8",
   "metadata": {},
   "outputs": [],
   "source": [
    "vectorized_x_test = vectorizer(x_test, tokens)"
   ]
  },
  {
   "cell_type": "code",
   "execution_count": 74,
   "id": "e3454de8-402b-4c2e-8d32-6306ad884f98",
   "metadata": {},
   "outputs": [
    {
     "data": {
      "text/plain": [
       "array([[0., 0., 0., ..., 0., 0., 0.],\n",
       "       [0., 0., 0., ..., 0., 0., 0.],\n",
       "       [0., 0., 0., ..., 0., 0., 0.],\n",
       "       ...,\n",
       "       [0., 0., 0., ..., 0., 0., 0.],\n",
       "       [0., 0., 0., ..., 0., 0., 0.],\n",
       "       [0., 0., 0., ..., 0., 0., 0.]], dtype=float32)"
      ]
     },
     "execution_count": 74,
     "metadata": {},
     "output_type": "execute_result"
    }
   ],
   "source": [
    "vectorized_x_train"
   ]
  },
  {
   "cell_type": "code",
   "execution_count": 75,
   "id": "3ffcd75f-9fd6-4ecd-b0b3-1749ec47e21f",
   "metadata": {},
   "outputs": [
    {
     "data": {
      "text/plain": [
       "6440    0\n",
       "3770    0\n",
       "7864    0\n",
       "5449    1\n",
       "2582    0\n",
       "       ..\n",
       "7793    1\n",
       "7691    1\n",
       "7588    0\n",
       "7298    0\n",
       "880     0\n",
       "Name: label, Length: 6336, dtype: int64"
      ]
     },
     "execution_count": 75,
     "metadata": {},
     "output_type": "execute_result"
    }
   ],
   "source": [
    "y_train"
   ]
  },
  {
   "cell_type": "code",
   "execution_count": 76,
   "id": "97018d86-2ead-4489-87a6-f8ede1860a88",
   "metadata": {},
   "outputs": [
    {
     "data": {
      "text/plain": [
       "array([[0., 0., 0., ..., 0., 0., 0.],\n",
       "       [0., 0., 0., ..., 0., 0., 0.],\n",
       "       [0., 0., 0., ..., 0., 0., 0.],\n",
       "       ...,\n",
       "       [0., 0., 0., ..., 0., 0., 0.],\n",
       "       [0., 0., 0., ..., 0., 0., 0.],\n",
       "       [0., 0., 0., ..., 0., 0., 0.]], dtype=float32)"
      ]
     },
     "execution_count": 76,
     "metadata": {},
     "output_type": "execute_result"
    }
   ],
   "source": [
    "vectorized_x_test"
   ]
  },
  {
   "cell_type": "code",
   "execution_count": 77,
   "id": "6d4676b4-3dc9-4605-89eb-115847721912",
   "metadata": {},
   "outputs": [
    {
     "data": {
      "text/plain": [
       "2468    0\n",
       "904     0\n",
       "3773    1\n",
       "633     0\n",
       "2298    0\n",
       "       ..\n",
       "2284    0\n",
       "4325    0\n",
       "3202    0\n",
       "2571    1\n",
       "3538    0\n",
       "Name: label, Length: 1584, dtype: int64"
      ]
     },
     "execution_count": 77,
     "metadata": {},
     "output_type": "execute_result"
    }
   ],
   "source": [
    "y_test"
   ]
  },
  {
   "cell_type": "code",
   "execution_count": 78,
   "id": "8f677b27-2560-4109-8c69-36ebd8cb5eb9",
   "metadata": {},
   "outputs": [
    {
     "data": {
      "text/plain": [
       "label\n",
       "0    4711\n",
       "1    1625\n",
       "Name: count, dtype: int64"
      ]
     },
     "execution_count": 78,
     "metadata": {},
     "output_type": "execute_result"
    }
   ],
   "source": [
    "y_train.value_counts()"
   ]
  },
  {
   "cell_type": "code",
   "execution_count": 79,
   "id": "06c4b850-b9e4-442a-964b-89f995ac37a2",
   "metadata": {},
   "outputs": [
    {
     "data": {
      "image/png": "[encoded data removed]",
      "text/plain": [
       "<Figure size 640x480 with 1 Axes>"
      ]
     },
     "metadata": {},
     "output_type": "display_data"
    }
   ],
   "source": [
    "plt.pie(\n",
    "    np.array([y_train.value_counts()[0], y_train.value_counts()[1]]),\n",
    "    labels=['positive', 'negative'],\n",
    "    autopct='%1.1f%%'\n",
    ")\n",
    "plt.show()"
   ]
  },
  {
   "cell_type": "markdown",
   "id": "c31e4ed4-ef48-4b4d-8e89-6940b90cd470",
   "metadata": {},
   "source": [
    "## Hanadle Imbalance dataset"
   ]
  },
  {
   "cell_type": "code",
   "execution_count": 80,
   "id": "6a9f3054-7282-41d5-8980-4381eed8f27d",
   "metadata": {},
   "outputs": [
    {
     "name": "stdout",
     "output_type": "stream",
     "text": [
      "Collecting imbalanced-learnNote: you may need to restart the kernel to use updated packages.\n",
      "\n",
      "  Downloading imbalanced_learn-0.12.4-py3-none-any.whl.metadata (8.3 kB)\n",
      "Requirement already satisfied: numpy>=1.17.3 in f:\\ml project\\sentiment_analysis_project\\env\\lib\\site-packages (from imbalanced-learn) (2.1.3)\n",
      "Requirement already satisfied: scipy>=1.5.0 in f:\\ml project\\sentiment_analysis_project\\env\\lib\\site-packages (from imbalanced-learn) (1.14.1)\n",
      "Requirement already satisfied: scikit-learn>=1.0.2 in f:\\ml project\\sentiment_analysis_project\\env\\lib\\site-packages (from imbalanced-learn) (1.5.2)\n",
      "Requirement already satisfied: joblib>=1.1.1 in f:\\ml project\\sentiment_analysis_project\\env\\lib\\site-packages (from imbalanced-learn) (1.4.2)\n",
      "Requirement already satisfied: threadpoolctl>=2.0.0 in f:\\ml project\\sentiment_analysis_project\\env\\lib\\site-packages (from imbalanced-learn) (3.5.0)\n",
      "Downloading imbalanced_learn-0.12.4-py3-none-any.whl (258 kB)\n",
      "Installing collected packages: imbalanced-learn\n",
      "Successfully installed imbalanced-learn-0.12.4\n"
     ]
    }
   ],
   "source": [
    "pip install imbalanced-learn"
   ]
  },
  {
   "cell_type": "code",
   "execution_count": 83,
   "id": "37af0bdc-5d2b-4e19-bac9-146e33a3b045",
   "metadata": {},
   "outputs": [
    {
     "name": "stdout",
     "output_type": "stream",
     "text": [
      "(9422, 1145) (9422,)\n"
     ]
    }
   ],
   "source": [
    "from imblearn.over_sampling import SMOTE\n",
    "smote = SMOTE()\n",
    "vectorized_x_train_smote, y_train_smote = smote.fit_resample(vectorized_x_train, y_train)\n",
    "print(vectorized_x_train_smote.shape, y_train_smote.shape)"
   ]
  },
  {
   "cell_type": "code",
   "execution_count": 84,
   "id": "ef94beac-46b3-47a0-8678-7b6c3341fd92",
   "metadata": {},
   "outputs": [
    {
     "data": {
      "text/plain": [
       "label\n",
       "0    4711\n",
       "1    4711\n",
       "Name: count, dtype: int64"
      ]
     },
     "execution_count": 84,
     "metadata": {},
     "output_type": "execute_result"
    }
   ],
   "source": [
    "y_train_smote.value_counts()"
   ]
  },
  {
   "cell_type": "code",
   "execution_count": 85,
   "id": "ba8915e8-a5b8-4cd2-8df7-282c977bd08a",
   "metadata": {},
   "outputs": [
    {
     "data": {
      "image/png": "[encoded data removed]",
      "text/plain": [
       "<Figure size 640x480 with 1 Axes>"
      ]
     },
     "metadata": {},
     "output_type": "display_data"
    }
   ],
   "source": [
    "plt.pie(\n",
    "    np.array([y_train_smote.value_counts()[0], y_train_smote.value_counts()[1]]),\n",
    "    labels=['positive', 'negative'],\n",
    "    autopct='%1.1f%%'\n",
    ")\n",
    "plt.show()"
   ]
  },
  {
   "cell_type": "code",
   "execution_count": 86,
   "id": "d02b2732-6caa-43f7-9a35-68c52d9856f3",
   "metadata": {},
   "outputs": [
    {
     "data": {
      "text/plain": [
       "array([[0., 0., 0., ..., 0., 0., 0.],\n",
       "       [0., 0., 0., ..., 0., 0., 0.],\n",
       "       [0., 0., 0., ..., 0., 0., 0.],\n",
       "       ...,\n",
       "       [0., 0., 0., ..., 0., 0., 0.],\n",
       "       [0., 0., 0., ..., 0., 0., 0.],\n",
       "       [0., 0., 0., ..., 0., 0., 0.]], dtype=float32)"
      ]
     },
     "execution_count": 86,
     "metadata": {},
     "output_type": "execute_result"
    }
   ],
   "source": [
    "vectorized_x_train_smote"
   ]
  },
  {
   "cell_type": "code",
   "execution_count": 87,
   "id": "27c16aff-d05a-403a-b8fb-4d38e982c1aa",
   "metadata": {},
   "outputs": [
    {
     "data": {
      "text/plain": [
       "0       0\n",
       "1       0\n",
       "2       0\n",
       "3       1\n",
       "4       0\n",
       "       ..\n",
       "9417    1\n",
       "9418    1\n",
       "9419    1\n",
       "9420    1\n",
       "9421    1\n",
       "Name: label, Length: 9422, dtype: int64"
      ]
     },
     "execution_count": 87,
     "metadata": {},
     "output_type": "execute_result"
    }
   ],
   "source": [
    "y_train_smote"
   ]
  },
  {
   "cell_type": "code",
   "execution_count": 90,
   "id": "c7a2afc0-957d-4d40-9f8c-f53a5f751731",
   "metadata": {},
   "outputs": [
    {
     "data": {
      "text/plain": [
       "array([[0., 0., 0., ..., 0., 0., 0.],\n",
       "       [0., 0., 0., ..., 0., 0., 0.],\n",
       "       [0., 0., 0., ..., 0., 0., 0.],\n",
       "       ...,\n",
       "       [0., 0., 0., ..., 0., 0., 0.],\n",
       "       [0., 0., 0., ..., 0., 0., 0.],\n",
       "       [0., 0., 0., ..., 0., 0., 0.]], dtype=float32)"
      ]
     },
     "execution_count": 90,
     "metadata": {},
     "output_type": "execute_result"
    }
   ],
   "source": [
    "vectorized_x_test"
   ]
  },
  {
   "cell_type": "code",
   "execution_count": 91,
   "id": "088fc6aa-7a3c-416e-91a9-f9ba6022f87f",
   "metadata": {},
   "outputs": [
    {
     "data": {
      "text/plain": [
       "2468    0\n",
       "904     0\n",
       "3773    1\n",
       "633     0\n",
       "2298    0\n",
       "       ..\n",
       "2284    0\n",
       "4325    0\n",
       "3202    0\n",
       "2571    1\n",
       "3538    0\n",
       "Name: label, Length: 1584, dtype: int64"
      ]
     },
     "execution_count": 91,
     "metadata": {},
     "output_type": "execute_result"
    }
   ],
   "source": [
    "y_test"
   ]
  },
  {
   "cell_type": "markdown",
   "id": "a6850ef8-e8ac-4e6d-8493-19b19d98394e",
   "metadata": {},
   "source": [
    "## Model Training Evaluation"
   ]
  },
  {
   "cell_type": "code",
   "execution_count": 94,
   "id": "a7c7fe93-5189-43d7-94be-709137bc57f7",
   "metadata": {},
   "outputs": [],
   "source": [
    "from sklearn.linear_model import LogisticRegression\n",
    "from sklearn.naive_bayes import MultinomialNB  \n",
    "from sklearn.tree import DecisionTreeClassifier\n",
    "from sklearn.ensemble import RandomForestClassifier\n",
    "from sklearn.svm import SVC\n"
   ]
  },
  {
   "cell_type": "code",
   "execution_count": 115,
   "id": "2036f3dc-54d7-4511-8b9d-339c1a9b74a2",
   "metadata": {},
   "outputs": [],
   "source": [
    "from sklearn.metrics import accuracy_score,f1_score,precision_score, recall_score\n",
    "\n",
    "def training_scores(y_act, y_pred):\n",
    "    acc = round(accuracy_score(y_act, y_pred),3)\n",
    "    pr = round(precision_score(y_act, y_pred),3)\n",
    "    rec = round(recall_score(y_act, y_pred),3)\n",
    "    f1 = round(f1_score(y_act, y_pred),3)\n",
    "    print(f'Training Score : \\n\\tAccuracy = {acc}\\n\\tPrecision = {pr}\\n\\tRecall = {rec}\\n\\tF1-Score = {f1}')\n",
    "\n",
    "def validation_scores(y_act, y_pred):\n",
    "    acc = round(accuracy_score(y_act, y_pred),3)\n",
    "    pr = round(precision_score(y_act, y_pred),3)\n",
    "    rec = round(recall_score(y_act, y_pred),3)\n",
    "    f1 = round(f1_score(y_act, y_pred),3)\n",
    "    print(f'Testing score : \\n\\tAccuracy = {acc}\\n\\tPrecision = {pr}\\n\\tRecall = {rec}\\n\\tF1-Score = {f1}')\n"
   ]
  },
  {
   "cell_type": "markdown",
   "id": "411f2363-81d5-4a8f-96a5-d2a178183af0",
   "metadata": {},
   "source": [
    "###Logistic Regression"
   ]
  },
  {
   "cell_type": "code",
   "execution_count": 131,
   "id": "e1984cce-aac0-4d33-8bd0-6769a2f70b1f",
   "metadata": {},
   "outputs": [
    {
     "name": "stdout",
     "output_type": "stream",
     "text": [
      "Training Score : \n",
      "\tAccuracy = 0.94\n",
      "\tPrecision = 0.915\n",
      "\tRecall = 0.97\n",
      "\tF1-Score = 0.942\n",
      "Testing score : \n",
      "\tAccuracy = 0.867\n",
      "\tPrecision = 0.695\n",
      "\tRecall = 0.843\n",
      "\tF1-Score = 0.762\n"
     ]
    }
   ],
   "source": [
    "lr = LogisticRegression()\n",
    "\n",
    "lr.fit(vectorized_x_train_smote, y_train_smote)\n",
    "\n",
    "y_train_pred = lr.predict(vectorized_x_train_smote)\n",
    "\n",
    "y_test_pred = lr.predict(vectorized_x_test)\n",
    "\n",
    "training_scores(y_train_smote,y_train_pred)\n",
    "\n",
    "validation_scores(y_test, y_test_pred)\n"
   ]
  },
  {
   "cell_type": "markdown",
   "id": "e8159edc-b02a-411d-a6c2-d114332159e1",
   "metadata": {},
   "source": [
    "###Naive Bayes"
   ]
  },
  {
   "cell_type": "code",
   "execution_count": 125,
   "id": "fdcb5e7f-cdde-4fd8-860d-24a83d07a4d7",
   "metadata": {},
   "outputs": [
    {
     "name": "stdout",
     "output_type": "stream",
     "text": [
      "Training Score : \n",
      "\tAccuracy = 0.91\n",
      "\tPrecision = 0.872\n",
      "\tRecall = 0.962\n",
      "\tF1-Score = 0.915\n",
      "Testing score : \n",
      "\tAccuracy = 0.87\n",
      "\tPrecision = 0.68\n",
      "\tRecall = 0.92\n",
      "\tF1-Score = 0.782\n"
     ]
    }
   ],
   "source": [
    "mnb = MultinomialNB()\n",
    "mnb.fit(vectorized_x_train_smote, y_train_smote)\n",
    "\n",
    "y_train_pred = mnb.predict(vectorized_x_train_smote)\n",
    "\n",
    "y_test_pred = mnb.predict(vectorized_x_test)\n",
    "\n",
    "training_scores(y_train_smote,y_train_pred)\n",
    "\n",
    "validation_scores(y_test, y_test_pred)\n",
    "\n"
   ]
  },
  {
   "cell_type": "markdown",
   "id": "bc2e649a-94b4-4cad-97ba-05d1ea527a99",
   "metadata": {},
   "source": [
    "### Decision Tree"
   ]
  },
  {
   "cell_type": "code",
   "execution_count": 126,
   "id": "ff7b62fb-6d3f-465a-9f5d-761f1706f9d7",
   "metadata": {},
   "outputs": [
    {
     "name": "stdout",
     "output_type": "stream",
     "text": [
      "Training Score : \n",
      "\tAccuracy = 1.0\n",
      "\tPrecision = 1.0\n",
      "\tRecall = 0.999\n",
      "\tF1-Score = 1.0\n",
      "Testing score : \n",
      "\tAccuracy = 0.829\n",
      "\tPrecision = 0.668\n",
      "\tRecall = 0.646\n",
      "\tF1-Score = 0.657\n"
     ]
    }
   ],
   "source": [
    "dt = DecisionTreeClassifier()\n",
    "\n",
    "dt.fit(vectorized_x_train_smote, y_train_smote)\n",
    "\n",
    "y_train_pred = dt.predict(vectorized_x_train_smote)\n",
    "\n",
    "y_test_pred = dt.predict(vectorized_x_test)\n",
    "\n",
    "training_scores(y_train_smote,y_train_pred)\n",
    "\n",
    "validation_scores(y_test, y_test_pred)\n",
    "\n"
   ]
  },
  {
   "cell_type": "markdown",
   "id": "6c6a7442-121d-40b0-ad24-36a051e94113",
   "metadata": {},
   "source": [
    "### Random Forest"
   ]
  },
  {
   "cell_type": "code",
   "execution_count": 128,
   "id": "c82fcbd5-26ec-43d2-a974-cae52fd31c6a",
   "metadata": {},
   "outputs": [
    {
     "name": "stdout",
     "output_type": "stream",
     "text": [
      "Training Score : \n",
      "\tAccuracy = 1.0\n",
      "\tPrecision = 1.0\n",
      "\tRecall = 1.0\n",
      "\tF1-Score = 1.0\n",
      "Testing score : \n",
      "\tAccuracy = 0.867\n",
      "\tPrecision = 0.741\n",
      "\tRecall = 0.728\n",
      "\tF1-Score = 0.735\n"
     ]
    }
   ],
   "source": [
    "rf = RandomForestClassifier()\n",
    "\n",
    "rf.fit(vectorized_x_train_smote, y_train_smote)\n",
    "\n",
    "y_train_pred = rf.predict(vectorized_x_train_smote)\n",
    "\n",
    "y_test_pred = rf.predict(vectorized_x_test)\n",
    "\n",
    "training_scores(y_train_smote,y_train_pred)\n",
    "\n",
    "validation_scores(y_test, y_test_pred)\n",
    "\n"
   ]
  },
  {
   "cell_type": "markdown",
   "id": "f2a128d9-b1c9-4af1-b055-8b5e3dd5a73f",
   "metadata": {},
   "source": [
    "###Support vector machine"
   ]
  },
  {
   "cell_type": "code",
   "execution_count": 130,
   "id": "3ca6a527-d63d-491f-ac44-125d60efcc26",
   "metadata": {},
   "outputs": [
    {
     "name": "stdout",
     "output_type": "stream",
     "text": [
      "Training Score : \n",
      "\tAccuracy = 0.979\n",
      "\tPrecision = 0.964\n",
      "\tRecall = 0.996\n",
      "\tF1-Score = 0.98\n",
      "Testing score : \n",
      "\tAccuracy = 0.868\n",
      "\tPrecision = 0.711\n",
      "\tRecall = 0.808\n",
      "\tF1-Score = 0.756\n"
     ]
    }
   ],
   "source": [
    "svm = SVC()\n",
    "\n",
    "svm.fit(vectorized_x_train_smote, y_train_smote)\n",
    "\n",
    "y_train_pred = svm.predict(vectorized_x_train_smote)\n",
    "\n",
    "y_test_pred = svm.predict(vectorized_x_test)\n",
    "\n",
    "training_scores(y_train_smote,y_train_pred)\n",
    "\n",
    "validation_scores(y_test, y_test_pred)\n",
    "\n",
    "\n"
   ]
  },
  {
   "cell_type": "code",
   "execution_count": 132,
   "id": "54ec9aa7-980e-482b-9392-d7afd7293454",
   "metadata": {},
   "outputs": [],
   "source": [
    "import pickle\n",
    "\n",
    "with open('../static/model/model.pickle', 'wb') as file:\n",
    "    pickle.dump(lr,file)"
   ]
  },
  {
   "cell_type": "code",
   "execution_count": null,
   "id": "a0ef4428-b60a-49e1-8dd7-af1356206f7b",
   "metadata": {},
   "outputs": [],
   "source": []
  }
 ],
 "metadata": {
  "kernelspec": {
   "display_name": "Python 3 (ipykernel)",
   "language": "python",
   "name": "python3"
  },
  "language_info": {
   "codemirror_mode": {
    "name": "ipython",
    "version": 3
   },
   "file_extension": ".py",
   "mimetype": "text/x-python",
   "name": "python",
   "nbconvert_exporter": "python",
   "pygments_lexer": "ipython3",
   "version": "3.11.2"
  }
 },
 "nbformat": 4,
 "nbformat_minor": 5
}
